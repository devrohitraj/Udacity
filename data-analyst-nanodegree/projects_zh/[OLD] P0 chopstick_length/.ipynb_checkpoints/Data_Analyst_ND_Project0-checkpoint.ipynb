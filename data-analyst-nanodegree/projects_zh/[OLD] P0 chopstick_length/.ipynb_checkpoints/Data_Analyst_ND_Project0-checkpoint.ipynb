{
 "cells": [
  {
   "cell_type": "markdown",
   "metadata": {},
   "source": [
    "说明：这是优达学城数据分析师纳米学位 P0 分析筷子最优长度的项目辅助文件。如果你需要本文件的英文版本，请访问[此链接](https://github.com/udacity/data-analyst/tree/master/projects/chopstick_length)。\n",
    "\n",
    "----\n",
    "\n",
    "\n",
    "# 筷子!\n",
    "\n",
    "一些研究者打算确定儿童和成人的最佳筷子长度。他们想出了一种用来评定一对筷子的功能有效性的度量，称为“食物夹取性能”。“食物夹取性能”通过对夹取并放在杯子中的花生 (PPPC, peanuts picked and placed in a cup) 计数来确定。\n",
    "\n",
    "\n",
    "### 确定最佳筷子长度的研究\n",
    "\n",
    "[摘要和论文链接](http://www.ncbi.nlm.nih.gov/pubmed/15676839)  \n",
    "*以下摘要改编自链接中的内容*\n",
    "\n",
    "筷子是人类迄今为止发明的最简单常用的手动工具之一，但尚没有[工效学家](https://www.google.com/search?q=ergonomists)对它做过调查。此调查执行了两项试验室研究，使用[随机完全区组设计](http://dawg.utk.edu/glossary/whatis_rcbd.htm)，来评估筷子长度对成人和儿童食物夹取能力的影响。31 名男性大专生和 21 名小学生作为试验对象，来对 180、210、240、270、300 和 330 毫米的筷子进行测试。结果显示 240 和 180 毫米的筷子分别是成人和儿童的最佳长度。基于这些发现，研究者建议家中有儿童的家庭应同时配备 240 和 180 毫米长的筷子。此外，考虑到工效学和成本之间的权衡，餐厅应提供 210 毫米长的筷子。\n",
    "\n",
    "\n",
    "### 在此项目的其余部分，仅根据分析 31 名男性大学生的试验回答所有问题\n",
    "\n",
    "下载[成人数据集](https://www.udacity.com/api/nodes/4576183932/supplemental_media/chopstick-effectivenesscsv/download)（不要想歪），然后根据摘要和数据集回答以下问题。\n",
    "\n",
    "**如果你双击此单元格**，会看到文本发生变化，所有样式被清除。这将允许你编辑此本文块。此文本块使用 [Markdown](http://daringfireball.net/projects/markdown/syntax) 编写，这是一种使用标题、链接、斜体和许多其他样式选项的文本编辑方式。在纳米学位后面的课程中，你会继续了解如何使用 Markdown。点击 shift + enter 或 shift + return 查看编辑后的文本样式。"
   ]
  },
  {
   "cell_type": "markdown",
   "metadata": {},
   "source": [
    "#### 1. 此实验中的自变量是什么？\n",
    "\n",
    "你可双击此单元格在其中添加你的答案，或使用工具栏（在下方插入单元格）中的加号在新的单元格中添加你的答案。\n"
   ]
  },
  {
   "cell_type": "markdown",
   "metadata": {},
   "source": [
    "#### 2. 此实验中的因变量是什么？\n",
    "\n"
   ]
  },
  {
   "cell_type": "markdown",
   "metadata": {},
   "source": [
    "#### 3. 因变量的操作性定义是什么？\n",
    "\n"
   ]
  },
  {
   "cell_type": "markdown",
   "metadata": {},
   "source": [
    "#### 4. 基于对实验和数据集的描述，至少列出两个你知道的受控变量。\n",
    "\n",
    "请主要关注这些参与者之间的共同点。你不必猜测任何变量或阅读整片论文来确定这些变量。（例如，我们可以合理认为筷子的材料是保持不变的，但这在摘要或数据描述中没有说明。因此，筷子材料是受控变量）。"
   ]
  },
  {
   "cell_type": "markdown",
   "metadata": {},
   "source": [
    "Ipython notebook 的一个较大的优势是你可以使用代码记录你的数据分析，在代码中添加注释，甚至使用 Markdown 添加文本块。这些 notebook 允许你与他人协作并分享你的工作。现在，我们先来看一些执行统计的代码。\n"
   ]
  },
  {
   "cell_type": "code",
   "execution_count": null,
   "metadata": {
    "collapsed": false,
    "scrolled": true
   },
   "outputs": [],
   "source": [
    "import pandas as pd\n",
    "\n",
    "# pandas 是一个用来进行数据处理和分析的软件库。\n",
    "# 我们用一些简短的昵称来称呼库或包。Pandas 的昵称是 pd。\n",
    "# 点击 shift + enter 来运行这部分的代码。"
   ]
  },
  {
   "cell_type": "code",
   "execution_count": null,
   "metadata": {
    "collapsed": false
   },
   "outputs": [],
   "source": [
    "path = r'./chopstick-effectiveness.csv'\n",
    "\n",
    "# 将地址改为 chopstick-effectiveness.csv 文件所在文件夹。\n",
    "# 如果运行这段代码出错，请检查上面输入的地址是否正确。\n",
    "\n",
    "dataFrame = pd.read_csv(path)\n",
    "dataFrame"
   ]
  },
  {
   "cell_type": "markdown",
   "metadata": {},
   "source": [
    "现在我们使用代码来对数据进行一项基本的统计计算！运行下面的代码块来计算全部 31 名参与者和所有筷子长度的平均“食物夹取效率”。\n"
   ]
  },
  {
   "cell_type": "code",
   "execution_count": null,
   "metadata": {
    "collapsed": false
   },
   "outputs": [],
   "source": [
    "dataFrame['Food.Pinching.Efficiency'].mean()"
   ]
  },
  {
   "cell_type": "markdown",
   "metadata": {},
   "source": [
    "这个数据是有用的，但是它无法让我们知道对于这 31 名男性大学生，哪个筷子长度性能最佳。下一个代码块将生成每个筷子长度的平均“食物夹取效率”。运行下面的代码块。\n"
   ]
  },
  {
   "cell_type": "code",
   "execution_count": null,
   "metadata": {
    "collapsed": false
   },
   "outputs": [],
   "source": [
    "meansByChopstickLength = dataFrame.groupby('Chopstick.Length')['Food.Pinching.Efficiency'].mean().reset_index()\n",
    "meansByChopstickLength\n",
    "\n",
    "# reset_index() 将 Chopstick.Length 从索引（index）改为列（column）。\n",
    "# 这样筷子的长度就不是索引，现在索引已经成为行数 0, 1, 2, 3, 4, 5。"
   ]
  },
  {
   "cell_type": "markdown",
   "metadata": {},
   "source": [
    "#### 5. 对于 31 名男性大学生来说，哪个筷子长度性能最好？\n",
    "\n"
   ]
  },
  {
   "cell_type": "code",
   "execution_count": null,
   "metadata": {
    "collapsed": false
   },
   "outputs": [],
   "source": [
    "# 让绘图在 Notebook 中显示，而不是在新建窗口中显示。\n",
    "\n",
    "%pylab inline\n",
    "\n",
    "import matplotlib.pyplot as plt\n",
    "\n",
    "plt.scatter(x=meansByChopstickLength['Chopstick.Length'], y=meansByChopstickLength['Food.Pinching.Efficiency'])\n",
    "            # title=\"\")\n",
    "plt.xlabel(\"Length in mm\")\n",
    "plt.ylabel(\"Efficiency in PPPC\")\n",
    "plt.title(\"Average Food Pinching Efficiency by Chopstick Length\")\n",
    "plt.show()"
   ]
  },
  {
   "cell_type": "markdown",
   "metadata": {},
   "source": [
    "#### 6. 根据上述代码创建的散点图，解释你观察到的关系。你注意到哪些信息？\n",
    "\n"
   ]
  },
  {
   "cell_type": "markdown",
   "metadata": {},
   "source": [
    "### 在摘要中，研究者表示他们的结果显示食物夹取性能受筷子长度影响较大，大约 240 毫米长的筷子是成人的最佳长度\n",
    "\n",
    "#### 7a. 根据你分析的数据，你是否同意此说法？\n",
    "\n",
    "#### 7b. 为什么？\n"
   ]
  }
 ],
 "metadata": {
  "anaconda-cloud": {},
  "kernelspec": {
   "display_name": "Python [Root]",
   "language": "python",
   "name": "Python [Root]"
  },
  "language_info": {
   "codemirror_mode": {
    "name": "ipython",
    "version": 2
   },
   "file_extension": ".py",
   "mimetype": "text/x-python",
   "name": "python",
   "nbconvert_exporter": "python",
   "pygments_lexer": "ipython2",
   "version": "2.7.12"
  }
 },
 "nbformat": 4,
 "nbformat_minor": 0
}
